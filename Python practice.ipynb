{
  "nbformat": 4,
  "nbformat_minor": 0,
  "metadata": {
    "colab": {
      "provenance": [],
      "authorship_tag": "ABX9TyMI/9PMWVrVzM7YEN0tgcBA",
      "include_colab_link": true
    },
    "kernelspec": {
      "name": "python3",
      "display_name": "Python 3"
    },
    "language_info": {
      "name": "python"
    }
  },
  "cells": [
    {
      "cell_type": "markdown",
      "metadata": {
        "id": "view-in-github",
        "colab_type": "text"
      },
      "source": [
        "<a href=\"https://colab.research.google.com/github/ReX0171/3rd-Semester-OOP/blob/main/Python%20practice.ipynb\" target=\"_parent\"><img src=\"https://colab.research.google.com/assets/colab-badge.svg\" alt=\"Open In Colab\"/></a>"
      ]
    },
    {
      "cell_type": "code",
      "source": [
        "name = input(\"Please enter your name: \")\n",
        "print(\"Welcome \" + name )"
      ],
      "metadata": {
        "colab": {
          "base_uri": "https://localhost:8080/"
        },
        "id": "o_9fBZ0Lzil8",
        "outputId": "37b94dd4-860a-43e9-ff72-5a84bef804f7"
      },
      "execution_count": 2,
      "outputs": [
        {
          "output_type": "stream",
          "name": "stdout",
          "text": [
            "Please enter your name: Waseef Ullah\n",
            "Welcome Waseef Ullah\n"
          ]
        }
      ]
    },
    {
      "cell_type": "code",
      "source": [
        "num1=input(\"Enter num1:\")\n",
        "num2=input(\"Enter num2:\")\n",
        "print(num1+num2)"
      ],
      "metadata": {
        "colab": {
          "base_uri": "https://localhost:8080/"
        },
        "id": "ws7x92v40Bm8",
        "outputId": "468d327e-d478-4b33-cd65-b5b589d7bd55"
      },
      "execution_count": 4,
      "outputs": [
        {
          "output_type": "stream",
          "name": "stdout",
          "text": [
            "Enter num1:7\n",
            "Enter num2:8\n",
            "78\n"
          ]
        }
      ]
    },
    {
      "cell_type": "code",
      "source": [
        "num=int(input())\n",
        "if num % 2 == 0:\n",
        "    print(\"numbeer is even\")\n",
        "else:\n",
        "    print(\"number is odd\")\n"
      ],
      "metadata": {
        "colab": {
          "base_uri": "https://localhost:8080/"
        },
        "id": "0t6gbsFe0GTG",
        "outputId": "203f75d4-2aee-46c3-8e7f-f77fc4c536fc"
      },
      "execution_count": 10,
      "outputs": [
        {
          "output_type": "stream",
          "name": "stdout",
          "text": [
            "7\n",
            "number is odd\n"
          ]
        }
      ]
    },
    {
      "cell_type": "code",
      "source": [
        "a=int(input())\n",
        "b=int(input())\n",
        "print(\"a is currently:\",a, \"and b is currently :\",b)\n",
        "a=a+b\n",
        "b=a-b\n",
        "a=a-b\n",
        "\n",
        "print(\"now  a:\",a)\n",
        "print(\"b:\",b)\n"
      ],
      "metadata": {
        "colab": {
          "base_uri": "https://localhost:8080/"
        },
        "id": "pPBSS82R1Y7l",
        "outputId": "0d987396-e526-4373-d7d5-a2d5a0dc27b9"
      },
      "execution_count": 14,
      "outputs": [
        {
          "output_type": "stream",
          "name": "stdout",
          "text": [
            "8\n",
            "9\n",
            "a is currently: 8 and b is currently : 9\n",
            "now  a: 9\n",
            "b: 8\n"
          ]
        }
      ]
    },
    {
      "cell_type": "code",
      "source": [
        "num=int(input())\n",
        "for i in range(1, 11):\n",
        "    print(num, \"x\", i, \"=\", num*i)\n"
      ],
      "metadata": {
        "colab": {
          "base_uri": "https://localhost:8080/"
        },
        "id": "J9pWM6ky2GDw",
        "outputId": "4a6ca30d-7847-41d5-ab67-0561eb9cf0f3"
      },
      "execution_count": 15,
      "outputs": [
        {
          "output_type": "stream",
          "name": "stdout",
          "text": [
            "7\n",
            "7 x 1 = 7\n",
            "7 x 2 = 14\n",
            "7 x 3 = 21\n",
            "7 x 4 = 28\n",
            "7 x 5 = 35\n",
            "7 x 6 = 42\n",
            "7 x 7 = 49\n",
            "7 x 8 = 56\n",
            "7 x 9 = 63\n",
            "7 x 10 = 70\n"
          ]
        }
      ]
    },
    {
      "cell_type": "code",
      "source": [
        "num=int(input())\n",
        "if num>0:\n",
        "    print(\"Positive\")\n",
        "elif num<0:\n",
        "    print(\"Negative\")\n",
        "else:\n",
        "    print(\"Zero\")\n"
      ],
      "metadata": {
        "colab": {
          "base_uri": "https://localhost:8080/"
        },
        "id": "HnLjYLUs2RWv",
        "outputId": "e388de00-9cda-4875-8c32-3e341bac9b73"
      },
      "execution_count": 16,
      "outputs": [
        {
          "output_type": "stream",
          "name": "stdout",
          "text": [
            "0\n",
            "Zero\n"
          ]
        }
      ]
    },
    {
      "cell_type": "code",
      "source": [
        "a=int(input())\n",
        "b=int(input())\n",
        "c=int(input())\n",
        "if a>=b and a>=c:\n",
        "    print(\"largest is \",a)\n",
        "elif b>=a and b>=c:\n",
        "    print(\"largest is \",b)\n",
        "else:\n",
        "    print(\"largest is \",c)\n"
      ],
      "metadata": {
        "colab": {
          "base_uri": "https://localhost:8080/"
        },
        "id": "UB88Uk3H2cmc",
        "outputId": "e1f09a9d-00a1-40db-c768-0d0bd4eace35"
      },
      "execution_count": 18,
      "outputs": [
        {
          "output_type": "stream",
          "name": "stdout",
          "text": [
            "7\n",
            "1\n",
            "9\n",
            "largest is  9\n"
          ]
        }
      ]
    },
    {
      "cell_type": "code",
      "source": [
        "year=int(input())\n",
        "if (year%4==0 and year%100!=0) or (year%400==0):\n",
        "    print(\"Leap Year\")\n",
        "else:\n",
        "    print(\" its not a Leap Year\")\n"
      ],
      "metadata": {
        "colab": {
          "base_uri": "https://localhost:8080/"
        },
        "id": "hTolXrfa28Xc",
        "outputId": "f553fc7f-3022-4d56-871e-ad17bd5858ca"
      },
      "execution_count": 21,
      "outputs": [
        {
          "output_type": "stream",
          "name": "stdout",
          "text": [
            "2025\n",
            " its not a Leap Year\n"
          ]
        }
      ]
    },
    {
      "cell_type": "code",
      "source": [
        "for i in range(2, 51, 2):\n",
        "    print(i)"
      ],
      "metadata": {
        "colab": {
          "base_uri": "https://localhost:8080/"
        },
        "id": "2SEYoydj3MUo",
        "outputId": "681c71a6-9459-4162-aeca-f6e19a278bdd"
      },
      "execution_count": 22,
      "outputs": [
        {
          "output_type": "stream",
          "name": "stdout",
          "text": [
            "2\n",
            "4\n",
            "6\n",
            "8\n",
            "10\n",
            "12\n",
            "14\n",
            "16\n",
            "18\n",
            "20\n",
            "22\n",
            "24\n",
            "26\n",
            "28\n",
            "30\n",
            "32\n",
            "34\n",
            "36\n",
            "38\n",
            "40\n",
            "42\n",
            "44\n",
            "46\n",
            "48\n",
            "50\n"
          ]
        }
      ]
    },
    {
      "cell_type": "code",
      "source": [
        "num = int(input())\n",
        "factorial = 1\n",
        "for i in range(1, num + 1):\n",
        "    factorial *= i\n",
        "print(factorial)\n"
      ],
      "metadata": {
        "colab": {
          "base_uri": "https://localhost:8080/"
        },
        "id": "GQYns4q63aTI",
        "outputId": "dd98d4b6-812c-4456-f464-2727e3a70fe4"
      },
      "execution_count": 23,
      "outputs": [
        {
          "output_type": "stream",
          "name": "stdout",
          "text": [
            "6\n",
            "720\n"
          ]
        }
      ]
    },
    {
      "cell_type": "code",
      "source": [
        "n=int(input())\n",
        "a=0\n",
        "b=1\n",
        "for i in range(n):\n",
        "    print(a,end=\" \")\n",
        "    a,b=b,a+b\n"
      ],
      "metadata": {
        "colab": {
          "base_uri": "https://localhost:8080/"
        },
        "id": "X35LiIxm3qd9",
        "outputId": "e445d2db-e5b5-4e89-9ae6-8c282f2e9832"
      },
      "execution_count": 30,
      "outputs": [
        {
          "output_type": "stream",
          "name": "stdout",
          "text": [
            "8\n",
            "0 1 1 2 3 5 8 13 "
          ]
        }
      ]
    },
    {
      "cell_type": "code",
      "source": [
        "string=input()\n",
        "count=0\n",
        "for char in string:\n",
        "    if char in 'aeiouAEIOU':\n",
        "        count+=1\n",
        "print(count)"
      ],
      "metadata": {
        "colab": {
          "base_uri": "https://localhost:8080/"
        },
        "id": "DkLEajo13_zb",
        "outputId": "656baae3-dc81-47f6-9d58-4a730d46f9a5"
      },
      "execution_count": 31,
      "outputs": [
        {
          "output_type": "stream",
          "name": "stdout",
          "text": [
            "WaseefUllah\n",
            "5\n"
          ]
        }
      ]
    },
    {
      "cell_type": "code",
      "source": [
        "string=input()\n",
        "reversed_string=\"\"\n",
        "for char in string:\n",
        "    reversed_string=char+reversed_string\n",
        "if string==reversed_string:\n",
        "    print(\"Palindrome\")\n",
        "else:\n",
        "    print(\"Not a Palindrome\")\n"
      ],
      "metadata": {
        "colab": {
          "base_uri": "https://localhost:8080/"
        },
        "id": "mU5rlLC64raR",
        "outputId": "fede49f1-bd3e-42f9-9c57-8efef69e94d7"
      },
      "execution_count": 34,
      "outputs": [
        {
          "output_type": "stream",
          "name": "stdout",
          "text": [
            "deed\n",
            "Palindrome\n"
          ]
        }
      ]
    },
    {
      "cell_type": "code",
      "source": [
        "string=input()\n",
        "reversed_string=\"\"\n",
        "for char in string:\n",
        "    reversed_string=char+reversed_string\n",
        "print(reversed_string)\n"
      ],
      "metadata": {
        "colab": {
          "base_uri": "https://localhost:8080/"
        },
        "id": "XzQ7qhBp4hVn",
        "outputId": "2e02052d-606a-4663-cfe1-574299ce6c25"
      },
      "execution_count": 35,
      "outputs": [
        {
          "output_type": "stream",
          "name": "stdout",
          "text": [
            "Waseef\n",
            "feesaW\n"
          ]
        }
      ]
    },
    {
      "cell_type": "code",
      "source": [
        "numbers=[]\n",
        "for i in range(5):\n",
        "    num=int(input())\n",
        "    numbers+=[num]\n",
        "print(sum(numbers))\n",
        "\n"
      ],
      "metadata": {
        "colab": {
          "base_uri": "https://localhost:8080/"
        },
        "id": "jFt2Q73b5JV1",
        "outputId": "c2cbcb0d-3543-4fcf-af81-56710b5f2f52"
      },
      "execution_count": 37,
      "outputs": [
        {
          "output_type": "stream",
          "name": "stdout",
          "text": [
            "1\n",
            "2\n",
            "3\n",
            "4\n",
            "5\n",
            "15\n"
          ]
        }
      ]
    },
    {
      "cell_type": "code",
      "source": [
        "numbers=[]\n",
        "for i in range(5):\n",
        "    num=int(input())\n",
        "    numbers+=[num]\n",
        "print(\"Largest number is :\",max(numbers))\n",
        "print(\"Smallest number i:\",min(numbers))\n"
      ],
      "metadata": {
        "colab": {
          "base_uri": "https://localhost:8080/"
        },
        "id": "mIX_nOHy5aBI",
        "outputId": "4688c271-fc18-405a-c349-109700bf5d6b"
      },
      "execution_count": 39,
      "outputs": [
        {
          "output_type": "stream",
          "name": "stdout",
          "text": [
            "1\n",
            "7\n",
            "2\n",
            "8\n",
            "3\n",
            "Largest number is : 8\n",
            "Smallest number is: 1\n"
          ]
        }
      ]
    },
    {
      "cell_type": "code",
      "source": [
        "my_dict={\"name\":\"Waseef Ullah\",\"age\":21,\"city\":\"Swabi\"}\n",
        "for key in my_dict:\n",
        "    print(key)\n",
        "for value in my_dict.values():\n",
        "    print(value)\n"
      ],
      "metadata": {
        "colab": {
          "base_uri": "https://localhost:8080/"
        },
        "id": "8Hhp0e4T5mR4",
        "outputId": "b47e2e92-36b9-4a10-f356-a9ca9d11cff9"
      },
      "execution_count": 40,
      "outputs": [
        {
          "output_type": "stream",
          "name": "stdout",
          "text": [
            "name\n",
            "age\n",
            "city\n",
            "Waseef Ullah\n",
            "21\n",
            "Swabi\n"
          ]
        }
      ]
    },
    {
      "cell_type": "code",
      "source": [
        "numbers=[1,2,2,8,7,8,3,4,4,5]\n",
        "unique_elements=set(numbers)\n",
        "print(unique_elements)\n"
      ],
      "metadata": {
        "colab": {
          "base_uri": "https://localhost:8080/"
        },
        "id": "HqJbYDLP579N",
        "outputId": "d11889e5-1de6-4864-e901-22331e51ae24"
      },
      "execution_count": 42,
      "outputs": [
        {
          "output_type": "stream",
          "name": "stdout",
          "text": [
            "{1, 2, 3, 4, 5, 7, 8}\n"
          ]
        }
      ]
    },
    {
      "cell_type": "code",
      "source": [
        "def areaofcircle(radius):\n",
        "    return 3.14*radius*radius\n",
        "radius=float(input())\n",
        "print(\"the area of circel is :\",areaofcircle(radius))\n"
      ],
      "metadata": {
        "colab": {
          "base_uri": "https://localhost:8080/"
        },
        "id": "sKkOuHMH6L8N",
        "outputId": "3391da88-792e-4705-aae2-99079fc63b4a"
      },
      "execution_count": 44,
      "outputs": [
        {
          "output_type": "stream",
          "name": "stdout",
          "text": [
            "4\n",
            "the area of circel is : 50.24\n"
          ]
        }
      ]
    },
    {
      "cell_type": "code",
      "source": [
        "def forprime(num):\n",
        "    if num<=1:\n",
        "        return False\n",
        "    for i in range(2,num):\n",
        "        if num%i==0:\n",
        "            return False\n",
        "    return True\n",
        "num=int(input())\n",
        "print(\"The number is prime:\",forprime(num))\n"
      ],
      "metadata": {
        "colab": {
          "base_uri": "https://localhost:8080/"
        },
        "id": "ypm8_2pA6Zwd",
        "outputId": "25faa0f2-ef3b-452d-b7d9-cce6059da614"
      },
      "execution_count": 45,
      "outputs": [
        {
          "output_type": "stream",
          "name": "stdout",
          "text": [
            "7\n",
            "The number is prime: True\n"
          ]
        }
      ]
    }
  ]
}